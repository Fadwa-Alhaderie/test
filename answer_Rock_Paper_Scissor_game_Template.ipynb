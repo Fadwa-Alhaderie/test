{
 "cells": [
  {
   "cell_type": "markdown",
   "metadata": {
    "id": "I4XbyM4p_nn7"
   },
   "source": [
    "![1_8du96SQUQ0NlWmWvVu20Zw.png](attachment:1_8du96SQUQ0NlWmWvVu20Zw.png)"
   ]
  },
  {
   "cell_type": "markdown",
   "metadata": {
    "id": "MKqeHBvt_nn-"
   },
   "source": [
    "### Description \n",
    "> #### In this game, the user gets the first chance to pick the option among Rock, paper and scissors. After that computer select from the remaining two choices(randomly), the winner is decided as per the rules.\n",
    "- Rock vs paper-> paper wins\n",
    "- Rock vs scissor-> Rock wins\n",
    "- paper vs scissor-> scissor wins."
   ]
  },
  {
   "cell_type": "code",
   "execution_count": null,
   "metadata": {
    "id": "ZLJVdUD4_nn_"
   },
   "outputs": [
    {
     "name": "stdout",
     "output_type": "stream",
     "text": [
      "input rock or paper or scissorrock\n",
      "rock = paper\n",
      "win player2!\n",
      "input rock or paper or scissorscissor\n",
      "scissor = rock\n",
      "win player2!\n"
     ]
    }
   ],
   "source": [
    "import random\n",
    "seq=['rock','paper','scissor']\n",
    "i=4\n",
    "while i>0:\n",
    "    player1=input('input rock or paper or scissor')\n",
    "    player2=random.choice(seq)\n",
    "    while player2 == player1: \n",
    "        player2=random.choice(seq) \n",
    "    print (player1+' = '+ player2)\n",
    "    if player1 == 'rock' and player2 == 'scissor':\n",
    "        print (' you win!')\n",
    "    elif player2 == 'rock' and player1 == 'scissor':\n",
    "            print ('win player2!')\n",
    "    elif player2 == 'paper' and player1 == 'scissor':\n",
    "                print (' you win !')\n",
    "    elif player1 == 'paper' and player2 == 'sicssor':\n",
    "        print ('win player2!')\n",
    "    elif player1 == 'paper' and player2 == 'rock':\n",
    "        print ('you win !')\n",
    "    elif player2 == 'paper' and player1 == 'rock':\n",
    "        print ('win player2!')\n",
    "    i=i-1"
   ]
  },
  {
   "cell_type": "code",
   "execution_count": null,
   "metadata": {},
   "outputs": [],
   "source": []
  }
 ],
 "metadata": {
  "colab": {
   "provenance": []
  },
  "kernelspec": {
   "display_name": "Python 3 (ipykernel)",
   "language": "python",
   "name": "python3"
  },
  "language_info": {
   "codemirror_mode": {
    "name": "ipython",
    "version": 3
   },
   "file_extension": ".py",
   "mimetype": "text/x-python",
   "name": "python",
   "nbconvert_exporter": "python",
   "pygments_lexer": "ipython3",
   "version": "3.10.8"
  }
 },
 "nbformat": 4,
 "nbformat_minor": 1
}
